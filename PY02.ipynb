{
 "cells": [
  {
   "cell_type": "markdown",
   "id": "80b7cbed",
   "metadata": {},
   "source": [
    "#### Print First 10 natural numbers using while loop"
   ]
  },
  {
   "cell_type": "code",
   "execution_count": 4,
   "id": "098fbc3c",
   "metadata": {},
   "outputs": [
    {
     "name": "stdout",
     "output_type": "stream",
     "text": [
      "1\n",
      "2\n",
      "3\n",
      "4\n",
      "5\n",
      "6\n",
      "7\n",
      "8\n",
      "9\n",
      "10\n"
     ]
    }
   ],
   "source": [
    "i=0\n",
    "while i <10:\n",
    "    i+=1\n",
    "    print(i)"
   ]
  },
  {
   "cell_type": "code",
   "execution_count": 5,
   "id": "d12c7200",
   "metadata": {
    "scrolled": true
   },
   "outputs": [
    {
     "name": "stdout",
     "output_type": "stream",
     "text": [
      "1\n",
      "2\n",
      "3\n",
      "4\n",
      "5\n",
      "6\n",
      "7\n",
      "8\n",
      "9\n",
      "10\n"
     ]
    }
   ],
   "source": [
    "for i in range(1,11):\n",
    "    print(i)"
   ]
  },
  {
   "cell_type": "markdown",
   "id": "eaff65cd",
   "metadata": {},
   "source": [
    "#### Calculate the sum of all numbers from 1 to a given number"
   ]
  },
  {
   "cell_type": "code",
   "execution_count": 16,
   "id": "e8102625",
   "metadata": {},
   "outputs": [
    {
     "name": "stdout",
     "output_type": "stream",
     "text": [
      "enter the number10\n",
      "55\n"
     ]
    }
   ],
   "source": [
    "number = int(input('enter the number'))\n",
    "sum=0\n",
    "for i in range(0,number+1):\n",
    "    sum+=i\n",
    "print(sum)\n",
    "    "
   ]
  },
  {
   "cell_type": "markdown",
   "id": "c84da28a",
   "metadata": {},
   "source": [
    "#### Display numbers from a list using loop"
   ]
  },
  {
   "cell_type": "code",
   "execution_count": 21,
   "id": "4afe3166",
   "metadata": {},
   "outputs": [
    {
     "name": "stdout",
     "output_type": "stream",
     "text": [
      "75\n",
      "150\n",
      "145\n"
     ]
    }
   ],
   "source": [
    "numbers = [12, 75, 150, 180, 145, 525, 50]\n",
    "for i in numbers:\n",
    "    if i > 500:\n",
    "        break\n",
    "    elif i > 150:\n",
    "        continue\n",
    "    elif i%5 == 0:\n",
    "        print(i)"
   ]
  },
  {
   "cell_type": "markdown",
   "id": "35facc63",
   "metadata": {},
   "source": [
    "#### Count the total number of digits in a number"
   ]
  },
  {
   "cell_type": "code",
   "execution_count": 25,
   "id": "9e432fcb",
   "metadata": {},
   "outputs": [
    {
     "name": "stdout",
     "output_type": "stream",
     "text": [
      "enter number 897654\n",
      "The total number of digit is 6\n"
     ]
    }
   ],
   "source": [
    "number = int(input('enter number '))\n",
    "count = 0\n",
    "while number != 0:\n",
    "    number = number//10\n",
    "    count+=1\n",
    "print('The total number of digit is',count)"
   ]
  },
  {
   "cell_type": "markdown",
   "id": "2649ac5a",
   "metadata": {},
   "source": [
    "#### Print list in reverse order using a loop"
   ]
  },
  {
   "cell_type": "code",
   "execution_count": 31,
   "id": "65bbcfb9",
   "metadata": {},
   "outputs": [
    {
     "name": "stdout",
     "output_type": "stream",
     "text": [
      "8 7 6 5 4 3 2 1 "
     ]
    }
   ],
   "source": [
    "li = [1,2,3,4,5,6,7,8]\n",
    "for i in li[::-1]:\n",
    "    print(i, end=' ')"
   ]
  },
  {
   "cell_type": "markdown",
   "id": "24faf51c",
   "metadata": {},
   "source": [
    "#### Use else block to display a message “Done” after successful execution of for loop"
   ]
  },
  {
   "cell_type": "code",
   "execution_count": 33,
   "id": "ca29d733",
   "metadata": {},
   "outputs": [
    {
     "name": "stdout",
     "output_type": "stream",
     "text": [
      "0\n",
      "1\n",
      "2\n",
      "3\n",
      "4\n",
      "Done!\n"
     ]
    }
   ],
   "source": [
    "for i in range(5):\n",
    "    print(i)\n",
    "else:\n",
    "    print('Done!')"
   ]
  },
  {
   "cell_type": "markdown",
   "id": "67f1eca9",
   "metadata": {},
   "source": [
    "#### Write a program to display all prime numbers within a range"
   ]
  },
  {
   "cell_type": "code",
   "execution_count": 38,
   "id": "3eee8e56",
   "metadata": {},
   "outputs": [
    {
     "name": "stdout",
     "output_type": "stream",
     "text": [
      "enter start value25\n",
      "enter end value40\n",
      "29\n",
      "31\n",
      "37\n"
     ]
    }
   ],
   "source": [
    "start = int(input('enter start value'))\n",
    "end = int(input('enter end value'))\n",
    "for num in range(start, end+1):\n",
    "    if num > 1:\n",
    "        for i in  range(2,num):\n",
    "            if num%i == 0:\n",
    "                break\n",
    "        else:\n",
    "            print(num)\n",
    "    "
   ]
  },
  {
   "cell_type": "markdown",
   "id": "c3a13fc4",
   "metadata": {},
   "source": [
    " #### Display Fibonacci series up to 10 terms"
   ]
  },
  {
   "cell_type": "code",
   "execution_count": 48,
   "id": "30fa930e",
   "metadata": {},
   "outputs": [
    {
     "name": "stdout",
     "output_type": "stream",
     "text": [
      "The fibonacci\n",
      "0 1 1 2 3 5 8 13 21 34 "
     ]
    }
   ],
   "source": [
    "num1 = 0\n",
    "num2 = 1\n",
    "print('The fibonacci')\n",
    "for i in range(10):\n",
    "    print(num1, end=' ')\n",
    "    res = num1+num2\n",
    "    num1 =num2\n",
    "    num2 =res"
   ]
  },
  {
   "cell_type": "markdown",
   "id": "2ef778d0",
   "metadata": {},
   "source": [
    " #### Find the factorial of a given number"
   ]
  },
  {
   "cell_type": "code",
   "execution_count": 56,
   "id": "c7a55d5c",
   "metadata": {},
   "outputs": [
    {
     "name": "stdout",
     "output_type": "stream",
     "text": [
      "enter number5\n",
      "The factorial is 120\n"
     ]
    }
   ],
   "source": [
    "number = int(input('enter number'))\n",
    "factorial = 1\n",
    "if number < 0:\n",
    "    print('The does not have factorial of negative value')\n",
    "elif number == 0:\n",
    "    print('The factorial is',factorial)\n",
    "else:\n",
    "    for i in range(1,number+1):\n",
    "        factorial = factorial * i\n",
    "    print('The factorial is',factorial)"
   ]
  },
  {
   "cell_type": "markdown",
   "id": "0d37064a",
   "metadata": {},
   "source": [
    "#### Reverse a given integer number"
   ]
  },
  {
   "cell_type": "code",
   "execution_count": 61,
   "id": "a827d753",
   "metadata": {},
   "outputs": [
    {
     "name": "stdout",
     "output_type": "stream",
     "text": [
      "enter number 98356\n",
      "65389"
     ]
    }
   ],
   "source": [
    "number = int(input('enter number '))\n",
    "while number > 0:\n",
    "    value = number % 10\n",
    "    number = number // 10\n",
    "    print(value, end ='')"
   ]
  },
  {
   "cell_type": "markdown",
   "id": "8e78b1e8",
   "metadata": {},
   "source": [
    "#### Calculate the cube of all numbers from 1 to a given number"
   ]
  },
  {
   "cell_type": "code",
   "execution_count": 66,
   "id": "81fc125b",
   "metadata": {},
   "outputs": [
    {
     "name": "stdout",
     "output_type": "stream",
     "text": [
      "enter number6\n",
      "The cube of given number 0 = 0\n",
      "The cube of given number 1 = 1\n",
      "The cube of given number 2 = 8\n",
      "The cube of given number 3 = 27\n",
      "The cube of given number 4 = 64\n",
      "The cube of given number 5 = 125\n",
      "The cube of given number 6 = 216\n"
     ]
    }
   ],
   "source": [
    "number = int(input('enter number'))\n",
    "for i in range(0, number+1):\n",
    "    print(f'The cube of given number {i} = {i**3}')"
   ]
  },
  {
   "cell_type": "markdown",
   "id": "d8a9e8e6",
   "metadata": {},
   "source": [
    "#### Find the sum of the series upto n terms"
   ]
  },
  {
   "cell_type": "code",
   "execution_count": 82,
   "id": "5b34eb4a",
   "metadata": {},
   "outputs": [
    {
     "name": "stdout",
     "output_type": "stream",
     "text": [
      "enter range5\n",
      "2+22+222+2222+22222+\n",
      "Sum of above series is: 24690\n"
     ]
    }
   ],
   "source": [
    "n = int(input('enter range'))\n",
    "start =2\n",
    "sum=0\n",
    "for i in range(n):\n",
    "    print(start, end='+')\n",
    "    sum+=start\n",
    "    start = start*10+2\n",
    "print(\"\\nSum of above series is:\", sum)"
   ]
  },
  {
   "cell_type": "code",
   "execution_count": null,
   "id": "4e865c36",
   "metadata": {},
   "outputs": [],
   "source": []
  }
 ],
 "metadata": {
  "kernelspec": {
   "display_name": "Python 3 (ipykernel)",
   "language": "python",
   "name": "python3"
  },
  "language_info": {
   "codemirror_mode": {
    "name": "ipython",
    "version": 3
   },
   "file_extension": ".py",
   "mimetype": "text/x-python",
   "name": "python",
   "nbconvert_exporter": "python",
   "pygments_lexer": "ipython3",
   "version": "3.9.7"
  }
 },
 "nbformat": 4,
 "nbformat_minor": 5
}
