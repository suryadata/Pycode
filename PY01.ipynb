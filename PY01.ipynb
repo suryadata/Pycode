{
 "cells": [
  {
   "cell_type": "markdown",
   "id": "95a0a959",
   "metadata": {},
   "source": [
    "#### Print characters from a string that are present at an even index number"
   ]
  },
  {
   "cell_type": "markdown",
   "id": "fb1afd50",
   "metadata": {},
   "source": [
    "Description : Write a program to accept a string from the user and display characters that are present at an even index number."
   ]
  },
  {
   "cell_type": "code",
   "execution_count": 8,
   "id": "b748ae30",
   "metadata": {},
   "outputs": [
    {
     "name": "stdout",
     "output_type": "stream",
     "text": [
      "enter the wordpython\n",
      "p\n",
      "t\n",
      "o\n"
     ]
    }
   ],
   "source": [
    "data = input('enter the word')\n",
    "for i in range(0,len(data),2):\n",
    "    print(data[i])\n",
    "        "
   ]
  },
  {
   "cell_type": "markdown",
   "id": "b60dfbec",
   "metadata": {},
   "source": [
    "#### Remove first n characters from a string"
   ]
  },
  {
   "cell_type": "markdown",
   "id": "f403c144",
   "metadata": {},
   "source": [
    "Description:Write a program to remove characters from a string starting from zero up to n and return a new string."
   ]
  },
  {
   "cell_type": "code",
   "execution_count": 11,
   "id": "4a6e7b9f",
   "metadata": {},
   "outputs": [
    {
     "name": "stdout",
     "output_type": "stream",
     "text": [
      "enter the word Encyclopedia\n",
      "enter start index value 4\n",
      "clopedia\n"
     ]
    }
   ],
   "source": [
    "data = input('enter the word ')\n",
    "number = int(input('enter start index value '))\n",
    "print(data[number:])"
   ]
  },
  {
   "cell_type": "markdown",
   "id": "ec476b91",
   "metadata": {},
   "source": [
    "#### Check if the first and last number of a list is the same"
   ]
  },
  {
   "cell_type": "markdown",
   "id": "2f326eb5",
   "metadata": {},
   "source": [
    "Description: Write a function to return True if the first and last number of a given list is same. If numbers are different then return False."
   ]
  },
  {
   "cell_type": "markdown",
   "id": "6b3d1b92",
   "metadata": {},
   "source": [
    "without Function"
   ]
  },
  {
   "cell_type": "code",
   "execution_count": 12,
   "id": "c9edebc8",
   "metadata": {},
   "outputs": [
    {
     "name": "stdout",
     "output_type": "stream",
     "text": [
      "True\n"
     ]
    }
   ],
   "source": [
    "list1 = [10,20,30,40,50,10]\n",
    "print(list1[0]==list1[-1])"
   ]
  },
  {
   "cell_type": "code",
   "execution_count": 14,
   "id": "d8882895",
   "metadata": {},
   "outputs": [
    {
     "name": "stdout",
     "output_type": "stream",
     "text": [
      "False\n"
     ]
    }
   ],
   "source": [
    "list2 =[10,20,30,40,50,60]\n",
    "print(list2[0]==list2[-1])"
   ]
  },
  {
   "cell_type": "markdown",
   "id": "25bd6775",
   "metadata": {},
   "source": [
    "with using Function"
   ]
  },
  {
   "cell_type": "code",
   "execution_count": 15,
   "id": "7e3248c6",
   "metadata": {},
   "outputs": [],
   "source": [
    "def check_last(n):\n",
    "    if n[0]==n[-1]:\n",
    "        return True\n",
    "    else:\n",
    "        return False"
   ]
  },
  {
   "cell_type": "code",
   "execution_count": 16,
   "id": "13783181",
   "metadata": {},
   "outputs": [
    {
     "data": {
      "text/plain": [
       "True"
      ]
     },
     "execution_count": 16,
     "metadata": {},
     "output_type": "execute_result"
    }
   ],
   "source": [
    "check_last(list1)"
   ]
  },
  {
   "cell_type": "code",
   "execution_count": 17,
   "id": "49534622",
   "metadata": {},
   "outputs": [
    {
     "data": {
      "text/plain": [
       "False"
      ]
     },
     "execution_count": 17,
     "metadata": {},
     "output_type": "execute_result"
    }
   ],
   "source": [
    "check_last(list2)"
   ]
  },
  {
   "cell_type": "markdown",
   "id": "d40782b8",
   "metadata": {},
   "source": [
    "#### Display numbers divisible by 5 from a list"
   ]
  },
  {
   "cell_type": "markdown",
   "id": "56b5f0ae",
   "metadata": {},
   "source": [
    "Description: Iterate the given list of numbers and print only those numbers which are divisible by 5"
   ]
  },
  {
   "cell_type": "code",
   "execution_count": 18,
   "id": "f02517ad",
   "metadata": {},
   "outputs": [
    {
     "name": "stdout",
     "output_type": "stream",
     "text": [
      "10\n",
      "20\n",
      "30\n",
      "35\n"
     ]
    }
   ],
   "source": [
    "list1=[10,12,20,22,30,35,78]\n",
    "for i in list1:\n",
    "    if i%5==0:\n",
    "        print(i)"
   ]
  },
  {
   "cell_type": "markdown",
   "id": "ca826d3a",
   "metadata": {},
   "source": [
    "#### Check divisible of user given value of list and numbers"
   ]
  },
  {
   "cell_type": "code",
   "execution_count": 19,
   "id": "4cf67ebd",
   "metadata": {},
   "outputs": [],
   "source": [
    "def check_divisble(n,d):\n",
    "    for i in n:\n",
    "        if i%d == 0:\n",
    "            print(i)\n",
    "        "
   ]
  },
  {
   "cell_type": "code",
   "execution_count": 22,
   "id": "3abbc757",
   "metadata": {},
   "outputs": [
    {
     "name": "stdout",
     "output_type": "stream",
     "text": [
      "35\n"
     ]
    }
   ],
   "source": [
    "check_divisble(list1,7)"
   ]
  },
  {
   "cell_type": "markdown",
   "id": "d9cb98bb",
   "metadata": {},
   "source": [
    "#### Return the count of a given substring from a string"
   ]
  },
  {
   "cell_type": "markdown",
   "id": "b73883df",
   "metadata": {},
   "source": [
    "Description: Write a program to find how many times substring “Win” appears in the given string."
   ]
  },
  {
   "cell_type": "code",
   "execution_count": 30,
   "id": "47be8685",
   "metadata": {},
   "outputs": [
    {
     "name": "stdout",
     "output_type": "stream",
     "text": [
      "The word win is occur 2 times\n"
     ]
    }
   ],
   "source": [
    "data= 'win is not everything--but wanting to win is'\n",
    "count=0\n",
    "for i in data.split():\n",
    "    if i == 'win':\n",
    "        count+=1\n",
    "print('The word win is occur',count, 'times')"
   ]
  },
  {
   "cell_type": "markdown",
   "id": "1243b0dd",
   "metadata": {},
   "source": [
    "#### Check Palindrome Number"
   ]
  },
  {
   "cell_type": "markdown",
   "id": "d14f93c6",
   "metadata": {},
   "source": [
    "Description: Write a program to check if the given string is a palindrome number."
   ]
  },
  {
   "cell_type": "code",
   "execution_count": 40,
   "id": "b3725f8f",
   "metadata": {},
   "outputs": [],
   "source": [
    "def check_palindrome(c):\n",
    "    if c[0:]==c[::-1]:\n",
    "        print(f' The given {c} is Palindrome')\n",
    "    else:\n",
    "        print('Not Palindrome')"
   ]
  },
  {
   "cell_type": "code",
   "execution_count": 42,
   "id": "90487a2b",
   "metadata": {},
   "outputs": [
    {
     "name": "stdout",
     "output_type": "stream",
     "text": [
      " The given 545 is Palindrome\n"
     ]
    }
   ],
   "source": [
    "check_palindrome('545')"
   ]
  },
  {
   "cell_type": "markdown",
   "id": "b3f06aa1",
   "metadata": {},
   "source": [
    "#### Create a new list from a two list using the following condition"
   ]
  },
  {
   "cell_type": "markdown",
   "id": "690c1cbb",
   "metadata": {},
   "source": [
    "Description: Given a two list of numbers, write a program to create a new list such that the new list should contain odd numbers from the first list and even numbers from the second list."
   ]
  },
  {
   "cell_type": "code",
   "execution_count": 51,
   "id": "cdc0bad1",
   "metadata": {},
   "outputs": [],
   "source": [
    "list1=[10, 11, 20, 22, 31, 35, 78]\n",
    "list2=[12, 13, 20, 80, 22, 7, 3]"
   ]
  },
  {
   "cell_type": "code",
   "execution_count": 77,
   "id": "db990f30",
   "metadata": {},
   "outputs": [],
   "source": [
    "li=[x for x in list1 if x % 2 !=0 ]\n",
    "li1=[x for x in list2 if x %2 == 0 ]"
   ]
  },
  {
   "cell_type": "code",
   "execution_count": 78,
   "id": "9f202d0a",
   "metadata": {},
   "outputs": [
    {
     "name": "stdout",
     "output_type": "stream",
     "text": [
      "[11, 31, 35, 12, 20, 80, 22]\n"
     ]
    }
   ],
   "source": [
    "print(li+li1)"
   ]
  },
  {
   "cell_type": "markdown",
   "id": "02af47e8",
   "metadata": {},
   "source": [
    "#### Write a Program to extract each digit from an integer in the reverse order."
   ]
  },
  {
   "cell_type": "markdown",
   "id": "7123c52a",
   "metadata": {},
   "source": [
    "Description: For example, If the given int is 7536, the output shall be “6 3 5 7“, with a space separating the digits."
   ]
  },
  {
   "cell_type": "code",
   "execution_count": 119,
   "id": "4c488dba",
   "metadata": {},
   "outputs": [
    {
     "name": "stdout",
     "output_type": "stream",
     "text": [
      "6 3 5 7 "
     ]
    }
   ],
   "source": [
    "value = 7536\n",
    "while value > 0:\n",
    "    last_digit = value % 10\n",
    "    value = value //10\n",
    "    print(last_digit, end=' ')"
   ]
  },
  {
   "cell_type": "markdown",
   "id": "d0627593",
   "metadata": {},
   "source": [
    "#### Calculate income tax for the given income by adhering to the below rules"
   ]
  },
  {
   "cell_type": "raw",
   "id": "61dadc4a",
   "metadata": {},
   "source": [
    "Taxable Income\tRate (in %)\n",
    "First $10,000\t0\n",
    "Next $10,000\t10\n",
    "The remaining\t20\n",
    "Expected Output:\n",
    "\n",
    "For example, suppose the taxable income is 45000 the income tax payable is\n",
    "\n",
    "10000*0% + 10000*10%  + 25000*20% = $6000."
   ]
  },
  {
   "cell_type": "code",
   "execution_count": 129,
   "id": "e0325db8",
   "metadata": {},
   "outputs": [
    {
     "name": "stdout",
     "output_type": "stream",
     "text": [
      "The 45000 taxable is $6000.0\n"
     ]
    }
   ],
   "source": [
    "amount = 45000\n",
    "bal= amount - 20000\n",
    "Tax=10000*(0/100)+ 10000*(10/100)  + bal*(20/100)\n",
    "print(f'The {amount} taxable is ${Tax}')"
   ]
  },
  {
   "cell_type": "markdown",
   "id": "d523b565",
   "metadata": {},
   "source": [
    "#### Print multiplication table form 1 to 10"
   ]
  },
  {
   "cell_type": "code",
   "execution_count": 152,
   "id": "8f2896e6",
   "metadata": {},
   "outputs": [
    {
     "name": "stdout",
     "output_type": "stream",
     "text": [
      "1 2 3 4 5 6 7 8 9 10 \t \t\n",
      "2 4 6 8 10 12 14 16 18 20 \t \t\n",
      "3 6 9 12 15 18 21 24 27 30 \t \t\n",
      "4 8 12 16 20 24 28 32 36 40 \t \t\n",
      "5 10 15 20 25 30 35 40 45 50 \t \t\n",
      "6 12 18 24 30 36 42 48 54 60 \t \t\n",
      "7 14 21 28 35 42 49 56 63 70 \t \t\n",
      "8 16 24 32 40 48 56 64 72 80 \t \t\n",
      "9 18 27 36 45 54 63 72 81 90 \t \t\n",
      "10 20 30 40 50 60 70 80 90 100 \t \t\n"
     ]
    }
   ],
   "source": [
    "for i in range(1,11):\n",
    "    for j in range(1,11):\n",
    "        print(i*j,end=' ')\n",
    "    print('\\t \\t')"
   ]
  },
  {
   "cell_type": "code",
   "execution_count": null,
   "id": "b15905d1",
   "metadata": {},
   "outputs": [],
   "source": []
  }
 ],
 "metadata": {
  "kernelspec": {
   "display_name": "Python 3 (ipykernel)",
   "language": "python",
   "name": "python3"
  },
  "language_info": {
   "codemirror_mode": {
    "name": "ipython",
    "version": 3
   },
   "file_extension": ".py",
   "mimetype": "text/x-python",
   "name": "python",
   "nbconvert_exporter": "python",
   "pygments_lexer": "ipython3",
   "version": "3.9.7"
  }
 },
 "nbformat": 4,
 "nbformat_minor": 5
}
